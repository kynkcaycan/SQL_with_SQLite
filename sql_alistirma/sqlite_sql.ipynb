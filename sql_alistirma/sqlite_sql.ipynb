{
 "cells": [
  {
   "cell_type": "markdown",
   "id": "50499c5b-3374-41a6-b03c-4275426703bc",
   "metadata": {},
   "source": [
    "# SQLite ile SQL Denemeleri"
   ]
  },
  {
   "cell_type": "code",
   "execution_count": 2,
   "id": "60a0da14-4e51-4b28-a076-2370d5f6c405",
   "metadata": {},
   "outputs": [
    {
     "data": {
      "text/plain": [
       "['Requirement already satisfied: ipython-sql in c:\\\\users\\\\aycan\\\\anaconda3\\\\lib\\\\site-packages (0.5.0)',\n",
       " 'Requirement already satisfied: prettytable in c:\\\\users\\\\aycan\\\\anaconda3\\\\lib\\\\site-packages (from ipython-sql) (3.10.2)',\n",
       " 'Requirement already satisfied: ipython in c:\\\\users\\\\aycan\\\\appdata\\\\roaming\\\\python\\\\python311\\\\site-packages (from ipython-sql) (8.17.2)',\n",
       " 'Requirement already satisfied: sqlalchemy>=2.0 in c:\\\\users\\\\aycan\\\\anaconda3\\\\lib\\\\site-packages (from ipython-sql) (2.0.25)',\n",
       " 'Requirement already satisfied: sqlparse in c:\\\\users\\\\aycan\\\\anaconda3\\\\lib\\\\site-packages (from ipython-sql) (0.5.1)',\n",
       " 'Requirement already satisfied: six in c:\\\\users\\\\aycan\\\\anaconda3\\\\lib\\\\site-packages (from ipython-sql) (1.16.0)',\n",
       " 'Requirement already satisfied: ipython-genutils in c:\\\\users\\\\aycan\\\\anaconda3\\\\lib\\\\site-packages (from ipython-sql) (0.2.0)',\n",
       " 'Requirement already satisfied: typing-extensions>=4.6.0 in c:\\\\users\\\\aycan\\\\anaconda3\\\\lib\\\\site-packages (from sqlalchemy>=2.0->ipython-sql) (4.9.0)',\n",
       " 'Requirement already satisfied: greenlet!=0.4.17 in c:\\\\users\\\\aycan\\\\anaconda3\\\\lib\\\\site-packages (from sqlalchemy>=2.0->ipython-sql) (3.0.1)',\n",
       " 'Requirement already satisfied: decorator in c:\\\\users\\\\aycan\\\\appdata\\\\roaming\\\\python\\\\python311\\\\site-packages (from ipython->ipython-sql) (5.1.1)',\n",
       " 'Requirement already satisfied: jedi>=0.16 in c:\\\\users\\\\aycan\\\\appdata\\\\roaming\\\\python\\\\python311\\\\site-packages (from ipython->ipython-sql) (0.19.1)',\n",
       " 'Requirement already satisfied: matplotlib-inline in c:\\\\users\\\\aycan\\\\appdata\\\\roaming\\\\python\\\\python311\\\\site-packages (from ipython->ipython-sql) (0.1.6)',\n",
       " 'Requirement already satisfied: prompt-toolkit!=3.0.37,<3.1.0,>=3.0.30 in c:\\\\users\\\\aycan\\\\appdata\\\\roaming\\\\python\\\\python311\\\\site-packages (from ipython->ipython-sql) (3.0.39)',\n",
       " 'Requirement already satisfied: pygments>=2.4.0 in c:\\\\users\\\\aycan\\\\appdata\\\\roaming\\\\python\\\\python311\\\\site-packages (from ipython->ipython-sql) (2.16.1)',\n",
       " 'Requirement already satisfied: stack-data in c:\\\\users\\\\aycan\\\\appdata\\\\roaming\\\\python\\\\python311\\\\site-packages (from ipython->ipython-sql) (0.6.3)',\n",
       " 'Requirement already satisfied: traitlets>=5 in c:\\\\users\\\\aycan\\\\appdata\\\\roaming\\\\python\\\\python311\\\\site-packages (from ipython->ipython-sql) (5.12.0)',\n",
       " 'Requirement already satisfied: colorama in c:\\\\users\\\\aycan\\\\appdata\\\\roaming\\\\python\\\\python311\\\\site-packages (from ipython->ipython-sql) (0.4.6)',\n",
       " 'Requirement already satisfied: wcwidth in c:\\\\users\\\\aycan\\\\appdata\\\\roaming\\\\python\\\\python311\\\\site-packages (from prettytable->ipython-sql) (0.2.8)',\n",
       " 'Requirement already satisfied: parso<0.9.0,>=0.8.3 in c:\\\\users\\\\aycan\\\\appdata\\\\roaming\\\\python\\\\python311\\\\site-packages (from jedi>=0.16->ipython->ipython-sql) (0.8.3)',\n",
       " 'Requirement already satisfied: executing>=1.2.0 in c:\\\\users\\\\aycan\\\\appdata\\\\roaming\\\\python\\\\python311\\\\site-packages (from stack-data->ipython->ipython-sql) (2.0.1)',\n",
       " 'Requirement already satisfied: asttokens>=2.1.0 in c:\\\\users\\\\aycan\\\\appdata\\\\roaming\\\\python\\\\python311\\\\site-packages (from stack-data->ipython->ipython-sql) (2.4.1)',\n",
       " 'Requirement already satisfied: pure-eval in c:\\\\users\\\\aycan\\\\appdata\\\\roaming\\\\python\\\\python311\\\\site-packages (from stack-data->ipython->ipython-sql) (0.2.2)']"
      ]
     },
     "execution_count": 2,
     "metadata": {},
     "output_type": "execute_result"
    }
   ],
   "source": [
    "%%!\n",
    "pip install --trusted-host pypi.org ipython-sql"
   ]
  },
  {
   "cell_type": "code",
   "execution_count": 3,
   "id": "e35c0800-7a39-47e8-b0c9-6cf9ebe35072",
   "metadata": {},
   "outputs": [
    {
     "name": "stdout",
     "output_type": "stream",
     "text": [
      "Requirement already satisfied: ipython-sql in c:\\users\\aycan\\anaconda3\\lib\\site-packages (0.5.0)\n",
      "Requirement already satisfied: prettytable in c:\\users\\aycan\\anaconda3\\lib\\site-packages (from ipython-sql) (3.10.2)\n",
      "Requirement already satisfied: ipython in c:\\users\\aycan\\appdata\\roaming\\python\\python311\\site-packages (from ipython-sql) (8.17.2)\n",
      "Requirement already satisfied: sqlalchemy>=2.0 in c:\\users\\aycan\\anaconda3\\lib\\site-packages (from ipython-sql) (2.0.25)\n",
      "Requirement already satisfied: sqlparse in c:\\users\\aycan\\anaconda3\\lib\\site-packages (from ipython-sql) (0.5.1)\n",
      "Requirement already satisfied: six in c:\\users\\aycan\\anaconda3\\lib\\site-packages (from ipython-sql) (1.16.0)\n",
      "Requirement already satisfied: ipython-genutils in c:\\users\\aycan\\anaconda3\\lib\\site-packages (from ipython-sql) (0.2.0)\n",
      "Requirement already satisfied: typing-extensions>=4.6.0 in c:\\users\\aycan\\anaconda3\\lib\\site-packages (from sqlalchemy>=2.0->ipython-sql) (4.9.0)\n",
      "Requirement already satisfied: greenlet!=0.4.17 in c:\\users\\aycan\\anaconda3\\lib\\site-packages (from sqlalchemy>=2.0->ipython-sql) (3.0.1)\n",
      "Requirement already satisfied: decorator in c:\\users\\aycan\\appdata\\roaming\\python\\python311\\site-packages (from ipython->ipython-sql) (5.1.1)\n",
      "Requirement already satisfied: jedi>=0.16 in c:\\users\\aycan\\appdata\\roaming\\python\\python311\\site-packages (from ipython->ipython-sql) (0.19.1)\n",
      "Requirement already satisfied: matplotlib-inline in c:\\users\\aycan\\appdata\\roaming\\python\\python311\\site-packages (from ipython->ipython-sql) (0.1.6)\n",
      "Requirement already satisfied: prompt-toolkit!=3.0.37,<3.1.0,>=3.0.30 in c:\\users\\aycan\\appdata\\roaming\\python\\python311\\site-packages (from ipython->ipython-sql) (3.0.39)\n",
      "Requirement already satisfied: pygments>=2.4.0 in c:\\users\\aycan\\appdata\\roaming\\python\\python311\\site-packages (from ipython->ipython-sql) (2.16.1)\n",
      "Requirement already satisfied: stack-data in c:\\users\\aycan\\appdata\\roaming\\python\\python311\\site-packages (from ipython->ipython-sql) (0.6.3)\n",
      "Requirement already satisfied: traitlets>=5 in c:\\users\\aycan\\appdata\\roaming\\python\\python311\\site-packages (from ipython->ipython-sql) (5.12.0)\n",
      "Requirement already satisfied: colorama in c:\\users\\aycan\\appdata\\roaming\\python\\python311\\site-packages (from ipython->ipython-sql) (0.4.6)\n",
      "Requirement already satisfied: wcwidth in c:\\users\\aycan\\appdata\\roaming\\python\\python311\\site-packages (from prettytable->ipython-sql) (0.2.8)\n",
      "Requirement already satisfied: parso<0.9.0,>=0.8.3 in c:\\users\\aycan\\appdata\\roaming\\python\\python311\\site-packages (from jedi>=0.16->ipython->ipython-sql) (0.8.3)\n",
      "Requirement already satisfied: executing>=1.2.0 in c:\\users\\aycan\\appdata\\roaming\\python\\python311\\site-packages (from stack-data->ipython->ipython-sql) (2.0.1)\n",
      "Requirement already satisfied: asttokens>=2.1.0 in c:\\users\\aycan\\appdata\\roaming\\python\\python311\\site-packages (from stack-data->ipython->ipython-sql) (2.4.1)\n",
      "Requirement already satisfied: pure-eval in c:\\users\\aycan\\appdata\\roaming\\python\\python311\\site-packages (from stack-data->ipython->ipython-sql) (0.2.2)\n"
     ]
    }
   ],
   "source": [
    "!pip install ipython-sql\n",
    "%load_ext sql"
   ]
  },
  {
   "cell_type": "code",
   "execution_count": 4,
   "id": "82433be3-7d36-48d8-957a-f16b1584cc04",
   "metadata": {},
   "outputs": [],
   "source": [
    "%sql sqlite:///vbo.db\n"
   ]
  },
  {
   "cell_type": "code",
   "execution_count": 11,
   "id": "6670d785-1a3a-4c36-b6a7-3451abb6753d",
   "metadata": {},
   "outputs": [
    {
     "name": "stdout",
     "output_type": "stream",
     "text": [
      " * sqlite:///vbo.db\n",
      "Done.\n"
     ]
    },
    {
     "data": {
      "text/html": [
       "<table>\n",
       "    <thead>\n",
       "        <tr>\n",
       "            <th>CustomerID</th>\n",
       "            <th>CustomerName</th>\n",
       "            <th>ContactName</th>\n",
       "            <th>Address</th>\n",
       "            <th>City</th>\n",
       "            <th>PostalCode</th>\n",
       "            <th>Country</th>\n",
       "        </tr>\n",
       "    </thead>\n",
       "    <tbody>\n",
       "        <tr>\n",
       "            <td>1</td>\n",
       "            <td>Alfreds Futterkiste</td>\n",
       "            <td>Maria Anders</td>\n",
       "            <td>Obere Str. 57</td>\n",
       "            <td>Berlin</td>\n",
       "            <td>12209</td>\n",
       "            <td>Germany</td>\n",
       "        </tr>\n",
       "        <tr>\n",
       "            <td>2</td>\n",
       "            <td>Ana Trujillo Emparedados y helados</td>\n",
       "            <td>Ana Trujillo</td>\n",
       "            <td>Avda. de la Constitución 2222</td>\n",
       "            <td>México D.F.</td>\n",
       "            <td>5021</td>\n",
       "            <td>Mexico</td>\n",
       "        </tr>\n",
       "        <tr>\n",
       "            <td>3</td>\n",
       "            <td>Antonio Moreno Taquería</td>\n",
       "            <td>Antonio Moreno</td>\n",
       "            <td>Mataderos 2312</td>\n",
       "            <td>México D.F.</td>\n",
       "            <td>5023</td>\n",
       "            <td>Mexico</td>\n",
       "        </tr>\n",
       "    </tbody>\n",
       "</table>"
      ],
      "text/plain": [
       "[(1, 'Alfreds Futterkiste', 'Maria Anders', 'Obere Str. 57', 'Berlin', '12209', 'Germany'),\n",
       " (2, 'Ana Trujillo Emparedados y helados', 'Ana Trujillo', 'Avda. de la Constitución 2222', 'México D.F.', '5021', 'Mexico'),\n",
       " (3, 'Antonio Moreno Taquería', 'Antonio Moreno', 'Mataderos 2312', 'México D.F.', '5023', 'Mexico')]"
      ]
     },
     "execution_count": 11,
     "metadata": {},
     "output_type": "execute_result"
    }
   ],
   "source": [
    "#%sql SELECT name FROM sqlite_master WHERE type='table';\n",
    "#%sql SELECT *FROM Customers LIMIT 3;"
   ]
  },
  {
   "cell_type": "markdown",
   "id": "2b893bb2-82ec-46b8-bbf5-bd0924ee1527",
   "metadata": {},
   "source": [
    "**Kaç müşteri var?**"
   ]
  },
  {
   "cell_type": "code",
   "execution_count": 13,
   "id": "ec02c2a2-c1a2-4511-9168-e6721bed8d87",
   "metadata": {},
   "outputs": [
    {
     "name": "stdout",
     "output_type": "stream",
     "text": [
      " * sqlite:///vbo.db\n",
      "Done.\n"
     ]
    },
    {
     "data": {
      "text/html": [
       "<table>\n",
       "    <thead>\n",
       "        <tr>\n",
       "            <th>COUNT(customerID)</th>\n",
       "        </tr>\n",
       "    </thead>\n",
       "    <tbody>\n",
       "        <tr>\n",
       "            <td>196</td>\n",
       "        </tr>\n",
       "    </tbody>\n",
       "</table>"
      ],
      "text/plain": [
       "[(196,)]"
      ]
     },
     "execution_count": 13,
     "metadata": {},
     "output_type": "execute_result"
    }
   ],
   "source": [
    "%sql SELECT COUNT(customerID) FROM Orders;"
   ]
  },
  {
   "cell_type": "markdown",
   "id": "91f26198-6d0e-494c-bb07-6b1e0ba6626f",
   "metadata": {},
   "source": [
    "**Kaç eşsiz müşteri var?**"
   ]
  },
  {
   "cell_type": "code",
   "execution_count": 17,
   "id": "b2174b50-faea-47fa-837d-5813776316b1",
   "metadata": {},
   "outputs": [
    {
     "name": "stdout",
     "output_type": "stream",
     "text": [
      " * sqlite:///vbo.db\n",
      "Done.\n"
     ]
    },
    {
     "data": {
      "text/html": [
       "<table>\n",
       "    <thead>\n",
       "        <tr>\n",
       "            <th>COUNT (DISTINCT CustomerID)</th>\n",
       "        </tr>\n",
       "    </thead>\n",
       "    <tbody>\n",
       "        <tr>\n",
       "            <td>74</td>\n",
       "        </tr>\n",
       "    </tbody>\n",
       "</table>"
      ],
      "text/plain": [
       "[(74,)]"
      ]
     },
     "execution_count": 17,
     "metadata": {},
     "output_type": "execute_result"
    }
   ],
   "source": [
    "%sql SELECT COUNT (DISTINCT CustomerID) FROM Orders;"
   ]
  },
  {
   "cell_type": "markdown",
   "id": "8891f401-b34d-4ff4-8ff2-cfd4d891a70c",
   "metadata": {},
   "source": [
    "**Hangi ülkeden kaçar tane müşteri var?**"
   ]
  },
  {
   "cell_type": "code",
   "execution_count": 21,
   "id": "667851a2-ab04-4a8d-aad2-31170b2e0625",
   "metadata": {},
   "outputs": [
    {
     "name": "stdout",
     "output_type": "stream",
     "text": [
      " * sqlite:///vbo.db\n",
      "Done.\n"
     ]
    },
    {
     "data": {
      "text/html": [
       "<table>\n",
       "    <thead>\n",
       "        <tr>\n",
       "            <th>COUNT(CustomerID)</th>\n",
       "            <th>Country</th>\n",
       "        </tr>\n",
       "    </thead>\n",
       "    <tbody>\n",
       "        <tr>\n",
       "            <td>3</td>\n",
       "            <td>Argentina</td>\n",
       "        </tr>\n",
       "        <tr>\n",
       "            <td>2</td>\n",
       "            <td>Austria</td>\n",
       "        </tr>\n",
       "        <tr>\n",
       "            <td>2</td>\n",
       "            <td>Belgium</td>\n",
       "        </tr>\n",
       "        <tr>\n",
       "            <td>9</td>\n",
       "            <td>Brazil</td>\n",
       "        </tr>\n",
       "        <tr>\n",
       "            <td>3</td>\n",
       "            <td>Canada</td>\n",
       "        </tr>\n",
       "        <tr>\n",
       "            <td>2</td>\n",
       "            <td>Denmark</td>\n",
       "        </tr>\n",
       "        <tr>\n",
       "            <td>2</td>\n",
       "            <td>Finland</td>\n",
       "        </tr>\n",
       "        <tr>\n",
       "            <td>11</td>\n",
       "            <td>France</td>\n",
       "        </tr>\n",
       "        <tr>\n",
       "            <td>11</td>\n",
       "            <td>Germany</td>\n",
       "        </tr>\n",
       "        <tr>\n",
       "            <td>1</td>\n",
       "            <td>Ireland</td>\n",
       "        </tr>\n",
       "        <tr>\n",
       "            <td>3</td>\n",
       "            <td>Italy</td>\n",
       "        </tr>\n",
       "        <tr>\n",
       "            <td>5</td>\n",
       "            <td>Mexico</td>\n",
       "        </tr>\n",
       "        <tr>\n",
       "            <td>1</td>\n",
       "            <td>Norway</td>\n",
       "        </tr>\n",
       "        <tr>\n",
       "            <td>1</td>\n",
       "            <td>Poland</td>\n",
       "        </tr>\n",
       "        <tr>\n",
       "            <td>2</td>\n",
       "            <td>Portugal</td>\n",
       "        </tr>\n",
       "        <tr>\n",
       "            <td>5</td>\n",
       "            <td>Spain</td>\n",
       "        </tr>\n",
       "        <tr>\n",
       "            <td>2</td>\n",
       "            <td>Sweden</td>\n",
       "        </tr>\n",
       "        <tr>\n",
       "            <td>2</td>\n",
       "            <td>Switzerland</td>\n",
       "        </tr>\n",
       "        <tr>\n",
       "            <td>7</td>\n",
       "            <td>UK</td>\n",
       "        </tr>\n",
       "        <tr>\n",
       "            <td>13</td>\n",
       "            <td>USA</td>\n",
       "        </tr>\n",
       "        <tr>\n",
       "            <td>4</td>\n",
       "            <td>Venezuela</td>\n",
       "        </tr>\n",
       "    </tbody>\n",
       "</table>"
      ],
      "text/plain": [
       "[(3, 'Argentina'),\n",
       " (2, 'Austria'),\n",
       " (2, 'Belgium'),\n",
       " (9, 'Brazil'),\n",
       " (3, 'Canada'),\n",
       " (2, 'Denmark'),\n",
       " (2, 'Finland'),\n",
       " (11, 'France'),\n",
       " (11, 'Germany'),\n",
       " (1, 'Ireland'),\n",
       " (3, 'Italy'),\n",
       " (5, 'Mexico'),\n",
       " (1, 'Norway'),\n",
       " (1, 'Poland'),\n",
       " (2, 'Portugal'),\n",
       " (5, 'Spain'),\n",
       " (2, 'Sweden'),\n",
       " (2, 'Switzerland'),\n",
       " (7, 'UK'),\n",
       " (13, 'USA'),\n",
       " (4, 'Venezuela')]"
      ]
     },
     "execution_count": 21,
     "metadata": {},
     "output_type": "execute_result"
    }
   ],
   "source": [
    "%sql SELECT COUNT(CustomerID), Country FROM Customers GROUP BY Country"
   ]
  },
  {
   "cell_type": "markdown",
   "id": "fc486a7d-5c05-4879-ab36-d6b2c0a7a633",
   "metadata": {},
   "source": [
    "**Ülkesi UK veya USA olanlar:**"
   ]
  },
  {
   "cell_type": "code",
   "execution_count": 40,
   "id": "da2f39ad-8a09-4182-80df-1e2ea60e432d",
   "metadata": {},
   "outputs": [
    {
     "name": "stdout",
     "output_type": "stream",
     "text": [
      " * sqlite:///vbo.db\n",
      "Done.\n"
     ]
    },
    {
     "data": {
      "text/html": [
       "<table>\n",
       "    <thead>\n",
       "        <tr>\n",
       "            <th>CustomerID</th>\n",
       "            <th>Country</th>\n",
       "        </tr>\n",
       "    </thead>\n",
       "    <tbody>\n",
       "        <tr>\n",
       "            <td>4</td>\n",
       "            <td>UK</td>\n",
       "        </tr>\n",
       "        <tr>\n",
       "            <td>11</td>\n",
       "            <td>UK</td>\n",
       "        </tr>\n",
       "        <tr>\n",
       "            <td>16</td>\n",
       "            <td>UK</td>\n",
       "        </tr>\n",
       "        <tr>\n",
       "            <td>19</td>\n",
       "            <td>UK</td>\n",
       "        </tr>\n",
       "        <tr>\n",
       "            <td>38</td>\n",
       "            <td>UK</td>\n",
       "        </tr>\n",
       "        <tr>\n",
       "            <td>53</td>\n",
       "            <td>UK</td>\n",
       "        </tr>\n",
       "        <tr>\n",
       "            <td>72</td>\n",
       "            <td>UK</td>\n",
       "        </tr>\n",
       "        <tr>\n",
       "            <td>32</td>\n",
       "            <td>USA</td>\n",
       "        </tr>\n",
       "        <tr>\n",
       "            <td>36</td>\n",
       "            <td>USA</td>\n",
       "        </tr>\n",
       "        <tr>\n",
       "            <td>43</td>\n",
       "            <td>USA</td>\n",
       "        </tr>\n",
       "        <tr>\n",
       "            <td>45</td>\n",
       "            <td>USA</td>\n",
       "        </tr>\n",
       "        <tr>\n",
       "            <td>48</td>\n",
       "            <td>USA</td>\n",
       "        </tr>\n",
       "        <tr>\n",
       "            <td>55</td>\n",
       "            <td>USA</td>\n",
       "        </tr>\n",
       "        <tr>\n",
       "            <td>65</td>\n",
       "            <td>USA</td>\n",
       "        </tr>\n",
       "        <tr>\n",
       "            <td>71</td>\n",
       "            <td>USA</td>\n",
       "        </tr>\n",
       "        <tr>\n",
       "            <td>75</td>\n",
       "            <td>USA</td>\n",
       "        </tr>\n",
       "        <tr>\n",
       "            <td>77</td>\n",
       "            <td>USA</td>\n",
       "        </tr>\n",
       "        <tr>\n",
       "            <td>78</td>\n",
       "            <td>USA</td>\n",
       "        </tr>\n",
       "        <tr>\n",
       "            <td>82</td>\n",
       "            <td>USA</td>\n",
       "        </tr>\n",
       "        <tr>\n",
       "            <td>89</td>\n",
       "            <td>USA</td>\n",
       "        </tr>\n",
       "    </tbody>\n",
       "</table>"
      ],
      "text/plain": [
       "[(4, 'UK'),\n",
       " (11, 'UK'),\n",
       " (16, 'UK'),\n",
       " (19, 'UK'),\n",
       " (38, 'UK'),\n",
       " (53, 'UK'),\n",
       " (72, 'UK'),\n",
       " (32, 'USA'),\n",
       " (36, 'USA'),\n",
       " (43, 'USA'),\n",
       " (45, 'USA'),\n",
       " (48, 'USA'),\n",
       " (55, 'USA'),\n",
       " (65, 'USA'),\n",
       " (71, 'USA'),\n",
       " (75, 'USA'),\n",
       " (77, 'USA'),\n",
       " (78, 'USA'),\n",
       " (82, 'USA'),\n",
       " (89, 'USA')]"
      ]
     },
     "execution_count": 40,
     "metadata": {},
     "output_type": "execute_result"
    }
   ],
   "source": [
    "%sql select CustomerID, Country from Customers where Country in('USA','UK') ORDER BY  Country;"
   ]
  },
  {
   "cell_type": "markdown",
   "id": "00f1088e-9978-493f-8c77-b0ca2fe24aff",
   "metadata": {},
   "source": [
    "**Müşteri contact name 'inde \"ana\" ifadesi geçen kişilerin adresleri ve contact name'leri:**"
   ]
  },
  {
   "cell_type": "code",
   "execution_count": 48,
   "id": "b124aa5e-a12e-4e55-8f97-eb1fd8feb978",
   "metadata": {},
   "outputs": [
    {
     "name": "stdout",
     "output_type": "stream",
     "text": [
      " * sqlite:///vbo.db\n",
      "Done.\n"
     ]
    },
    {
     "data": {
      "text/html": [
       "<table>\n",
       "    <thead>\n",
       "        <tr>\n",
       "            <th>Address</th>\n",
       "            <th>ContactName</th>\n",
       "        </tr>\n",
       "    </thead>\n",
       "    <tbody>\n",
       "        <tr>\n",
       "            <td>Avda. de la Constitución 2222</td>\n",
       "            <td>Ana Trujillo</td>\n",
       "        </tr>\n",
       "        <tr>\n",
       "            <td>Av. Inês de Castro, 414</td>\n",
       "            <td>Anabela Domingues</td>\n",
       "        </tr>\n",
       "    </tbody>\n",
       "</table>"
      ],
      "text/plain": [
       "[('Avda. de la Constitución 2222', 'Ana Trujillo'),\n",
       " ('Av. Inês de Castro, 414', 'Anabela Domingues')]"
      ]
     },
     "execution_count": 48,
     "metadata": {},
     "output_type": "execute_result"
    }
   ],
   "source": [
    "%sql select Address,ContactName from Customers where ContactName like '%ana%'"
   ]
  },
  {
   "cell_type": "markdown",
   "id": "42334d11-381b-4ca7-9bc0-e77946e899d4",
   "metadata": {},
   "source": [
    "**Germany-Berlinde yaşayan müşterilerin isimleri:**"
   ]
  },
  {
   "cell_type": "code",
   "execution_count": 51,
   "id": "798d4aca-120e-4b5f-830a-f64afc561272",
   "metadata": {},
   "outputs": [
    {
     "name": "stdout",
     "output_type": "stream",
     "text": [
      " * sqlite:///vbo.db\n",
      "Done.\n"
     ]
    },
    {
     "data": {
      "text/html": [
       "<table>\n",
       "    <thead>\n",
       "        <tr>\n",
       "            <th>CustomerName</th>\n",
       "            <th>Country</th>\n",
       "            <th>City</th>\n",
       "        </tr>\n",
       "    </thead>\n",
       "    <tbody>\n",
       "        <tr>\n",
       "            <td>Alfreds Futterkiste</td>\n",
       "            <td>Germany</td>\n",
       "            <td>Berlin</td>\n",
       "        </tr>\n",
       "    </tbody>\n",
       "</table>"
      ],
      "text/plain": [
       "[('Alfreds Futterkiste', 'Germany', 'Berlin')]"
      ]
     },
     "execution_count": 51,
     "metadata": {},
     "output_type": "execute_result"
    }
   ],
   "source": [
    "%sql select CustomerName, Country,City from Customers where Country in('Germany') and City in('Berlin')"
   ]
  },
  {
   "cell_type": "markdown",
   "id": "806abfe7-549b-4d7c-8467-1c79e002a25b",
   "metadata": {},
   "source": [
    "**Canada da yaşayıp isminin içinde 'in' geçenler:**"
   ]
  },
  {
   "cell_type": "code",
   "execution_count": 56,
   "id": "41a4bb34-df62-463e-aef5-ca1694753157",
   "metadata": {},
   "outputs": [
    {
     "name": "stdout",
     "output_type": "stream",
     "text": [
      " * sqlite:///vbo.db\n",
      "Done.\n"
     ]
    },
    {
     "data": {
      "text/html": [
       "<table>\n",
       "    <thead>\n",
       "        <tr>\n",
       "            <th>CustomerID</th>\n",
       "            <th>CustomerName</th>\n",
       "            <th>ContactName</th>\n",
       "            <th>Address</th>\n",
       "            <th>City</th>\n",
       "            <th>PostalCode</th>\n",
       "            <th>Country</th>\n",
       "        </tr>\n",
       "    </thead>\n",
       "    <tbody>\n",
       "        <tr>\n",
       "            <td>42</td>\n",
       "            <td>Laughing Bacchus Wine Cellars</td>\n",
       "            <td>Yoshi Tannamuri</td>\n",
       "            <td>1900 Oak St.</td>\n",
       "            <td>Vancouver</td>\n",
       "            <td>V3F 2K1</td>\n",
       "            <td>Canada</td>\n",
       "        </tr>\n",
       "    </tbody>\n",
       "</table>"
      ],
      "text/plain": [
       "[(42, 'Laughing Bacchus Wine Cellars', 'Yoshi Tannamuri', '1900 Oak St.', 'Vancouver', 'V3F 2K1', 'Canada')]"
      ]
     },
     "execution_count": 56,
     "metadata": {},
     "output_type": "execute_result"
    }
   ],
   "source": [
    "%sql select * from Customers where(( CustomerName like ('%in%'))and Country in('Canada') )"
   ]
  },
  {
   "cell_type": "markdown",
   "id": "9c00e2ae-8b59-4330-8ac1-9e936f563869",
   "metadata": {},
   "source": [
    "**Fiyatı 60 ile 50 TL arası olan ürünler:**"
   ]
  },
  {
   "cell_type": "code",
   "execution_count": 66,
   "id": "51475634-d95b-4bc7-b16d-bd12e5b84b6e",
   "metadata": {},
   "outputs": [
    {
     "name": "stdout",
     "output_type": "stream",
     "text": [
      " * sqlite:///vbo.db\n",
      "Done.\n"
     ]
    },
    {
     "data": {
      "text/html": [
       "<table>\n",
       "    <thead>\n",
       "        <tr>\n",
       "            <th>ProductName</th>\n",
       "            <th>Price</th>\n",
       "        </tr>\n",
       "    </thead>\n",
       "    <tbody>\n",
       "        <tr>\n",
       "            <td>Manjimup Dried Apples</td>\n",
       "            <td>53</td>\n",
       "        </tr>\n",
       "        <tr>\n",
       "            <td>Raclette Courdavault</td>\n",
       "            <td>55</td>\n",
       "        </tr>\n",
       "    </tbody>\n",
       "</table>"
      ],
      "text/plain": [
       "[('Manjimup Dried Apples', 53), ('Raclette Courdavault', 55)]"
      ]
     },
     "execution_count": 66,
     "metadata": {},
     "output_type": "execute_result"
    }
   ],
   "source": [
    "%sql select ProductName, Price from Products where Price<61 and Price>49"
   ]
  },
  {
   "cell_type": "markdown",
   "id": "016140f0-2399-4991-a925-dcc6d82e7809",
   "metadata": {},
   "source": [
    "**Fiyatı 30 TL'den büyük olan ürünlerin isimlerini, fiyatlarını ve fiyatlarının karesini bulunuz ve tüm değişkenlerin isimlendirmelerini aşağıdaki şekilde yapınız:\n",
    "urun ismi, urun_fiyati, ürün_fiyatinin_karesi**"
   ]
  },
  {
   "cell_type": "code",
   "execution_count": 71,
   "id": "0460296d-669c-4930-b421-bd33cbad8cd8",
   "metadata": {},
   "outputs": [
    {
     "name": "stdout",
     "output_type": "stream",
     "text": [
      " * sqlite:///vbo.db\n",
      "Done.\n"
     ]
    },
    {
     "data": {
      "text/html": [
       "<table>\n",
       "    <thead>\n",
       "        <tr>\n",
       "            <th>urun_ismi</th>\n",
       "            <th>urun_fiyati</th>\n",
       "            <th>urun_fiyati_karesi</th>\n",
       "        </tr>\n",
       "    </thead>\n",
       "    <tbody>\n",
       "        <tr>\n",
       "            <td>Northwoods Cranberry Sauce</td>\n",
       "            <td>40</td>\n",
       "            <td>1600</td>\n",
       "        </tr>\n",
       "        <tr>\n",
       "            <td>Mishi Kobe Niku</td>\n",
       "            <td>97</td>\n",
       "            <td>9409</td>\n",
       "        </tr>\n",
       "        <tr>\n",
       "            <td>Ikura</td>\n",
       "            <td>31</td>\n",
       "            <td>961</td>\n",
       "        </tr>\n",
       "        <tr>\n",
       "            <td>Queso Manchego La Pastora</td>\n",
       "            <td>38</td>\n",
       "            <td>1444</td>\n",
       "        </tr>\n",
       "        <tr>\n",
       "            <td>Genen Shouyu</td>\n",
       "            <td>43</td>\n",
       "            <td>1849</td>\n",
       "        </tr>\n",
       "        <tr>\n",
       "            <td>Alice Mutton</td>\n",
       "            <td>39</td>\n",
       "            <td>1521</td>\n",
       "        </tr>\n",
       "        <tr>\n",
       "            <td>Carnarvon Tigers</td>\n",
       "            <td>62</td>\n",
       "            <td>3844</td>\n",
       "        </tr>\n",
       "        <tr>\n",
       "            <td>Teatime Chocolate Biscuits</td>\n",
       "            <td>43</td>\n",
       "            <td>1849</td>\n",
       "        </tr>\n",
       "        <tr>\n",
       "            <td>Sir Rodney&#x27;s Marmalade</td>\n",
       "            <td>81</td>\n",
       "            <td>6561</td>\n",
       "        </tr>\n",
       "        <tr>\n",
       "            <td>Guaraná Fantástica</td>\n",
       "            <td>43</td>\n",
       "            <td>1849</td>\n",
       "        </tr>\n",
       "        <tr>\n",
       "            <td>Gumbär Gummibärchen</td>\n",
       "            <td>31</td>\n",
       "            <td>961</td>\n",
       "        </tr>\n",
       "        <tr>\n",
       "            <td>Schoggi Schokolade</td>\n",
       "            <td>43</td>\n",
       "            <td>1849</td>\n",
       "        </tr>\n",
       "        <tr>\n",
       "            <td>Rössle Sauerkraut</td>\n",
       "            <td>45</td>\n",
       "            <td>2025</td>\n",
       "        </tr>\n",
       "        <tr>\n",
       "            <td>Thüringer Rostbratwurst</td>\n",
       "            <td>123</td>\n",
       "            <td>15129</td>\n",
       "        </tr>\n",
       "        <tr>\n",
       "            <td>Gorgonzola Telino</td>\n",
       "            <td>435</td>\n",
       "            <td>189225</td>\n",
       "        </tr>\n",
       "        <tr>\n",
       "            <td>Mascarpone Fabioli</td>\n",
       "            <td>32</td>\n",
       "            <td>1024</td>\n",
       "        </tr>\n",
       "        <tr>\n",
       "            <td>Geitost</td>\n",
       "            <td>43</td>\n",
       "            <td>1849</td>\n",
       "        </tr>\n",
       "        <tr>\n",
       "            <td>Côte de Blaye</td>\n",
       "            <td>263</td>\n",
       "            <td>69169</td>\n",
       "        </tr>\n",
       "        <tr>\n",
       "            <td>Boston Crab Meat</td>\n",
       "            <td>43</td>\n",
       "            <td>1849</td>\n",
       "        </tr>\n",
       "        <tr>\n",
       "            <td>Ipoh Coffee</td>\n",
       "            <td>46</td>\n",
       "            <td>2116</td>\n",
       "        </tr>\n",
       "        <tr>\n",
       "            <td>Røgede sild</td>\n",
       "            <td>43</td>\n",
       "            <td>1849</td>\n",
       "        </tr>\n",
       "        <tr>\n",
       "            <td>Zaanse koeken</td>\n",
       "            <td>43</td>\n",
       "            <td>1849</td>\n",
       "        </tr>\n",
       "        <tr>\n",
       "            <td>Manjimup Dried Apples</td>\n",
       "            <td>53</td>\n",
       "            <td>2809</td>\n",
       "        </tr>\n",
       "        <tr>\n",
       "            <td>Perth Pasties</td>\n",
       "            <td>32</td>\n",
       "            <td>1024</td>\n",
       "        </tr>\n",
       "        <tr>\n",
       "            <td>Gnocchi di nonna Alice</td>\n",
       "            <td>38</td>\n",
       "            <td>1444</td>\n",
       "        </tr>\n",
       "        <tr>\n",
       "            <td>Ravioli Angelo</td>\n",
       "            <td>43</td>\n",
       "            <td>1849</td>\n",
       "        </tr>\n",
       "        <tr>\n",
       "            <td>Raclette Courdavault</td>\n",
       "            <td>55</td>\n",
       "            <td>3025</td>\n",
       "        </tr>\n",
       "        <tr>\n",
       "            <td>Camembert Pierrot</td>\n",
       "            <td>34</td>\n",
       "            <td>1156</td>\n",
       "        </tr>\n",
       "        <tr>\n",
       "            <td>Sirop d&#x27;érable</td>\n",
       "            <td>43</td>\n",
       "            <td>1849</td>\n",
       "        </tr>\n",
       "        <tr>\n",
       "            <td>Tarte au sucre</td>\n",
       "            <td>49</td>\n",
       "            <td>2401</td>\n",
       "        </tr>\n",
       "        <tr>\n",
       "            <td>Vegie-spread</td>\n",
       "            <td>43</td>\n",
       "            <td>1849</td>\n",
       "        </tr>\n",
       "        <tr>\n",
       "            <td>Wimmers gute Semmelknödel</td>\n",
       "            <td>33</td>\n",
       "            <td>1089</td>\n",
       "        </tr>\n",
       "        <tr>\n",
       "            <td>Louisiana Fiery Hot Pepper Sauce</td>\n",
       "            <td>43</td>\n",
       "            <td>1849</td>\n",
       "        </tr>\n",
       "        <tr>\n",
       "            <td>Scottish Longbreads</td>\n",
       "            <td>45</td>\n",
       "            <td>2025</td>\n",
       "        </tr>\n",
       "        <tr>\n",
       "            <td>Gudbrandsdalsost</td>\n",
       "            <td>36</td>\n",
       "            <td>1296</td>\n",
       "        </tr>\n",
       "        <tr>\n",
       "            <td>Mozzarella di Giovanni</td>\n",
       "            <td>34</td>\n",
       "            <td>1156</td>\n",
       "        </tr>\n",
       "    </tbody>\n",
       "</table>"
      ],
      "text/plain": [
       "[('Northwoods Cranberry Sauce', 40, 1600),\n",
       " ('Mishi Kobe Niku', 97, 9409),\n",
       " ('Ikura', 31, 961),\n",
       " ('Queso Manchego La Pastora', 38, 1444),\n",
       " ('Genen Shouyu', 43, 1849),\n",
       " ('Alice Mutton', 39, 1521),\n",
       " ('Carnarvon Tigers', 62, 3844),\n",
       " ('Teatime Chocolate Biscuits', 43, 1849),\n",
       " (\"Sir Rodney's Marmalade\", 81, 6561),\n",
       " ('Guaraná Fantástica', 43, 1849),\n",
       " ('Gumbär Gummibärchen', 31, 961),\n",
       " ('Schoggi Schokolade', 43, 1849),\n",
       " ('Rössle Sauerkraut', 45, 2025),\n",
       " ('Thüringer Rostbratwurst', 123, 15129),\n",
       " ('Gorgonzola Telino', 435, 189225),\n",
       " ('Mascarpone Fabioli', 32, 1024),\n",
       " ('Geitost', 43, 1849),\n",
       " ('Côte de Blaye', 263, 69169),\n",
       " ('Boston Crab Meat', 43, 1849),\n",
       " ('Ipoh Coffee', 46, 2116),\n",
       " ('Røgede sild', 43, 1849),\n",
       " ('Zaanse koeken', 43, 1849),\n",
       " ('Manjimup Dried Apples', 53, 2809),\n",
       " ('Perth Pasties', 32, 1024),\n",
       " ('Gnocchi di nonna Alice', 38, 1444),\n",
       " ('Ravioli Angelo', 43, 1849),\n",
       " ('Raclette Courdavault', 55, 3025),\n",
       " ('Camembert Pierrot', 34, 1156),\n",
       " (\"Sirop d'érable\", 43, 1849),\n",
       " ('Tarte au sucre', 49, 2401),\n",
       " ('Vegie-spread', 43, 1849),\n",
       " ('Wimmers gute Semmelknödel', 33, 1089),\n",
       " ('Louisiana Fiery Hot Pepper Sauce', 43, 1849),\n",
       " ('Scottish Longbreads', 45, 2025),\n",
       " ('Gudbrandsdalsost', 36, 1296),\n",
       " ('Mozzarella di Giovanni', 34, 1156)]"
      ]
     },
     "execution_count": 71,
     "metadata": {},
     "output_type": "execute_result"
    }
   ],
   "source": [
    "%sql select ProductName as urun_ismi, Price as urun_fiyati,Price*Price as urun_fiyati_karesi from Products where Price>30"
   ]
  },
  {
   "cell_type": "markdown",
   "id": "1ff31c84-da81-4f70-bad9-c039be360f93",
   "metadata": {},
   "source": [
    "**Products tablosundaki CategoryID’lerin yani kategorilerin isimleri nelerdir?**"
   ]
  },
  {
   "cell_type": "code",
   "execution_count": 88,
   "id": "e51dde29-0781-4833-b033-f8937c164304",
   "metadata": {},
   "outputs": [
    {
     "name": "stdout",
     "output_type": "stream",
     "text": [
      " * sqlite:///vbo.db\n",
      "Done.\n"
     ]
    },
    {
     "data": {
      "text/html": [
       "<table>\n",
       "    <thead>\n",
       "        <tr>\n",
       "            <th>CategoryID</th>\n",
       "            <th>CategoryName</th>\n",
       "        </tr>\n",
       "    </thead>\n",
       "    <tbody>\n",
       "        <tr>\n",
       "            <td>1</td>\n",
       "            <td>Beverages</td>\n",
       "        </tr>\n",
       "        <tr>\n",
       "            <td>1</td>\n",
       "            <td>Beverages</td>\n",
       "        </tr>\n",
       "        <tr>\n",
       "            <td>2</td>\n",
       "            <td>Condiments</td>\n",
       "        </tr>\n",
       "        <tr>\n",
       "            <td>2</td>\n",
       "            <td>Condiments</td>\n",
       "        </tr>\n",
       "        <tr>\n",
       "            <td>2</td>\n",
       "            <td>Condiments</td>\n",
       "        </tr>\n",
       "        <tr>\n",
       "            <td>2</td>\n",
       "            <td>Condiments</td>\n",
       "        </tr>\n",
       "        <tr>\n",
       "            <td>7</td>\n",
       "            <td>Produce</td>\n",
       "        </tr>\n",
       "        <tr>\n",
       "            <td>2</td>\n",
       "            <td>Condiments</td>\n",
       "        </tr>\n",
       "        <tr>\n",
       "            <td>6</td>\n",
       "            <td>Meat/Poultry</td>\n",
       "        </tr>\n",
       "        <tr>\n",
       "            <td>8</td>\n",
       "            <td>Seafood</td>\n",
       "        </tr>\n",
       "        <tr>\n",
       "            <td>4</td>\n",
       "            <td>Dairy Products</td>\n",
       "        </tr>\n",
       "        <tr>\n",
       "            <td>4</td>\n",
       "            <td>Dairy Products</td>\n",
       "        </tr>\n",
       "        <tr>\n",
       "            <td>8</td>\n",
       "            <td>Seafood</td>\n",
       "        </tr>\n",
       "        <tr>\n",
       "            <td>7</td>\n",
       "            <td>Produce</td>\n",
       "        </tr>\n",
       "        <tr>\n",
       "            <td>2</td>\n",
       "            <td>Condiments</td>\n",
       "        </tr>\n",
       "        <tr>\n",
       "            <td>3</td>\n",
       "            <td>Confections</td>\n",
       "        </tr>\n",
       "        <tr>\n",
       "            <td>6</td>\n",
       "            <td>Meat/Poultry</td>\n",
       "        </tr>\n",
       "        <tr>\n",
       "            <td>8</td>\n",
       "            <td>Seafood</td>\n",
       "        </tr>\n",
       "        <tr>\n",
       "            <td>3</td>\n",
       "            <td>Confections</td>\n",
       "        </tr>\n",
       "        <tr>\n",
       "            <td>3</td>\n",
       "            <td>Confections</td>\n",
       "        </tr>\n",
       "        <tr>\n",
       "            <td>3</td>\n",
       "            <td>Confections</td>\n",
       "        </tr>\n",
       "        <tr>\n",
       "            <td>5</td>\n",
       "            <td>Grains/Cereals</td>\n",
       "        </tr>\n",
       "        <tr>\n",
       "            <td>5</td>\n",
       "            <td>Grains/Cereals</td>\n",
       "        </tr>\n",
       "        <tr>\n",
       "            <td>1</td>\n",
       "            <td>Beverages</td>\n",
       "        </tr>\n",
       "        <tr>\n",
       "            <td>3</td>\n",
       "            <td>Confections</td>\n",
       "        </tr>\n",
       "        <tr>\n",
       "            <td>3</td>\n",
       "            <td>Confections</td>\n",
       "        </tr>\n",
       "        <tr>\n",
       "            <td>3</td>\n",
       "            <td>Confections</td>\n",
       "        </tr>\n",
       "        <tr>\n",
       "            <td>7</td>\n",
       "            <td>Produce</td>\n",
       "        </tr>\n",
       "        <tr>\n",
       "            <td>6</td>\n",
       "            <td>Meat/Poultry</td>\n",
       "        </tr>\n",
       "        <tr>\n",
       "            <td>8</td>\n",
       "            <td>Seafood</td>\n",
       "        </tr>\n",
       "        <tr>\n",
       "            <td>4</td>\n",
       "            <td>Dairy Products</td>\n",
       "        </tr>\n",
       "        <tr>\n",
       "            <td>4</td>\n",
       "            <td>Dairy Products</td>\n",
       "        </tr>\n",
       "        <tr>\n",
       "            <td>4</td>\n",
       "            <td>Dairy Products</td>\n",
       "        </tr>\n",
       "        <tr>\n",
       "            <td>1</td>\n",
       "            <td>Beverages</td>\n",
       "        </tr>\n",
       "        <tr>\n",
       "            <td>1</td>\n",
       "            <td>Beverages</td>\n",
       "        </tr>\n",
       "        <tr>\n",
       "            <td>8</td>\n",
       "            <td>Seafood</td>\n",
       "        </tr>\n",
       "        <tr>\n",
       "            <td>8</td>\n",
       "            <td>Seafood</td>\n",
       "        </tr>\n",
       "        <tr>\n",
       "            <td>1</td>\n",
       "            <td>Beverages</td>\n",
       "        </tr>\n",
       "        <tr>\n",
       "            <td>1</td>\n",
       "            <td>Beverages</td>\n",
       "        </tr>\n",
       "        <tr>\n",
       "            <td>8</td>\n",
       "            <td>Seafood</td>\n",
       "        </tr>\n",
       "        <tr>\n",
       "            <td>8</td>\n",
       "            <td>Seafood</td>\n",
       "        </tr>\n",
       "        <tr>\n",
       "            <td>5</td>\n",
       "            <td>Grains/Cereals</td>\n",
       "        </tr>\n",
       "        <tr>\n",
       "            <td>1</td>\n",
       "            <td>Beverages</td>\n",
       "        </tr>\n",
       "        <tr>\n",
       "            <td>2</td>\n",
       "            <td>Condiments</td>\n",
       "        </tr>\n",
       "        <tr>\n",
       "            <td>8</td>\n",
       "            <td>Seafood</td>\n",
       "        </tr>\n",
       "        <tr>\n",
       "            <td>8</td>\n",
       "            <td>Seafood</td>\n",
       "        </tr>\n",
       "        <tr>\n",
       "            <td>3</td>\n",
       "            <td>Confections</td>\n",
       "        </tr>\n",
       "        <tr>\n",
       "            <td>3</td>\n",
       "            <td>Confections</td>\n",
       "        </tr>\n",
       "        <tr>\n",
       "            <td>3</td>\n",
       "            <td>Confections</td>\n",
       "        </tr>\n",
       "        <tr>\n",
       "            <td>3</td>\n",
       "            <td>Confections</td>\n",
       "        </tr>\n",
       "        <tr>\n",
       "            <td>7</td>\n",
       "            <td>Produce</td>\n",
       "        </tr>\n",
       "        <tr>\n",
       "            <td>5</td>\n",
       "            <td>Grains/Cereals</td>\n",
       "        </tr>\n",
       "        <tr>\n",
       "            <td>6</td>\n",
       "            <td>Meat/Poultry</td>\n",
       "        </tr>\n",
       "        <tr>\n",
       "            <td>6</td>\n",
       "            <td>Meat/Poultry</td>\n",
       "        </tr>\n",
       "        <tr>\n",
       "            <td>6</td>\n",
       "            <td>Meat/Poultry</td>\n",
       "        </tr>\n",
       "        <tr>\n",
       "            <td>5</td>\n",
       "            <td>Grains/Cereals</td>\n",
       "        </tr>\n",
       "        <tr>\n",
       "            <td>5</td>\n",
       "            <td>Grains/Cereals</td>\n",
       "        </tr>\n",
       "        <tr>\n",
       "            <td>8</td>\n",
       "            <td>Seafood</td>\n",
       "        </tr>\n",
       "        <tr>\n",
       "            <td>4</td>\n",
       "            <td>Dairy Products</td>\n",
       "        </tr>\n",
       "        <tr>\n",
       "            <td>4</td>\n",
       "            <td>Dairy Products</td>\n",
       "        </tr>\n",
       "        <tr>\n",
       "            <td>2</td>\n",
       "            <td>Condiments</td>\n",
       "        </tr>\n",
       "        <tr>\n",
       "            <td>3</td>\n",
       "            <td>Confections</td>\n",
       "        </tr>\n",
       "        <tr>\n",
       "            <td>2</td>\n",
       "            <td>Condiments</td>\n",
       "        </tr>\n",
       "        <tr>\n",
       "            <td>5</td>\n",
       "            <td>Grains/Cereals</td>\n",
       "        </tr>\n",
       "        <tr>\n",
       "            <td>2</td>\n",
       "            <td>Condiments</td>\n",
       "        </tr>\n",
       "        <tr>\n",
       "            <td>2</td>\n",
       "            <td>Condiments</td>\n",
       "        </tr>\n",
       "        <tr>\n",
       "            <td>1</td>\n",
       "            <td>Beverages</td>\n",
       "        </tr>\n",
       "        <tr>\n",
       "            <td>3</td>\n",
       "            <td>Confections</td>\n",
       "        </tr>\n",
       "        <tr>\n",
       "            <td>4</td>\n",
       "            <td>Dairy Products</td>\n",
       "        </tr>\n",
       "        <tr>\n",
       "            <td>1</td>\n",
       "            <td>Beverages</td>\n",
       "        </tr>\n",
       "        <tr>\n",
       "            <td>4</td>\n",
       "            <td>Dairy Products</td>\n",
       "        </tr>\n",
       "        <tr>\n",
       "            <td>4</td>\n",
       "            <td>Dairy Products</td>\n",
       "        </tr>\n",
       "        <tr>\n",
       "            <td>8</td>\n",
       "            <td>Seafood</td>\n",
       "        </tr>\n",
       "        <tr>\n",
       "            <td>7</td>\n",
       "            <td>Produce</td>\n",
       "        </tr>\n",
       "        <tr>\n",
       "            <td>1</td>\n",
       "            <td>Beverages</td>\n",
       "        </tr>\n",
       "        <tr>\n",
       "            <td>1</td>\n",
       "            <td>Beverages</td>\n",
       "        </tr>\n",
       "        <tr>\n",
       "            <td>2</td>\n",
       "            <td>Condiments</td>\n",
       "        </tr>\n",
       "    </tbody>\n",
       "</table>"
      ],
      "text/plain": [
       "[(1, 'Beverages'),\n",
       " (1, 'Beverages'),\n",
       " (2, 'Condiments'),\n",
       " (2, 'Condiments'),\n",
       " (2, 'Condiments'),\n",
       " (2, 'Condiments'),\n",
       " (7, 'Produce'),\n",
       " (2, 'Condiments'),\n",
       " (6, 'Meat/Poultry'),\n",
       " (8, 'Seafood'),\n",
       " (4, 'Dairy Products'),\n",
       " (4, 'Dairy Products'),\n",
       " (8, 'Seafood'),\n",
       " (7, 'Produce'),\n",
       " (2, 'Condiments'),\n",
       " (3, 'Confections'),\n",
       " (6, 'Meat/Poultry'),\n",
       " (8, 'Seafood'),\n",
       " (3, 'Confections'),\n",
       " (3, 'Confections'),\n",
       " (3, 'Confections'),\n",
       " (5, 'Grains/Cereals'),\n",
       " (5, 'Grains/Cereals'),\n",
       " (1, 'Beverages'),\n",
       " (3, 'Confections'),\n",
       " (3, 'Confections'),\n",
       " (3, 'Confections'),\n",
       " (7, 'Produce'),\n",
       " (6, 'Meat/Poultry'),\n",
       " (8, 'Seafood'),\n",
       " (4, 'Dairy Products'),\n",
       " (4, 'Dairy Products'),\n",
       " (4, 'Dairy Products'),\n",
       " (1, 'Beverages'),\n",
       " (1, 'Beverages'),\n",
       " (8, 'Seafood'),\n",
       " (8, 'Seafood'),\n",
       " (1, 'Beverages'),\n",
       " (1, 'Beverages'),\n",
       " (8, 'Seafood'),\n",
       " (8, 'Seafood'),\n",
       " (5, 'Grains/Cereals'),\n",
       " (1, 'Beverages'),\n",
       " (2, 'Condiments'),\n",
       " (8, 'Seafood'),\n",
       " (8, 'Seafood'),\n",
       " (3, 'Confections'),\n",
       " (3, 'Confections'),\n",
       " (3, 'Confections'),\n",
       " (3, 'Confections'),\n",
       " (7, 'Produce'),\n",
       " (5, 'Grains/Cereals'),\n",
       " (6, 'Meat/Poultry'),\n",
       " (6, 'Meat/Poultry'),\n",
       " (6, 'Meat/Poultry'),\n",
       " (5, 'Grains/Cereals'),\n",
       " (5, 'Grains/Cereals'),\n",
       " (8, 'Seafood'),\n",
       " (4, 'Dairy Products'),\n",
       " (4, 'Dairy Products'),\n",
       " (2, 'Condiments'),\n",
       " (3, 'Confections'),\n",
       " (2, 'Condiments'),\n",
       " (5, 'Grains/Cereals'),\n",
       " (2, 'Condiments'),\n",
       " (2, 'Condiments'),\n",
       " (1, 'Beverages'),\n",
       " (3, 'Confections'),\n",
       " (4, 'Dairy Products'),\n",
       " (1, 'Beverages'),\n",
       " (4, 'Dairy Products'),\n",
       " (4, 'Dairy Products'),\n",
       " (8, 'Seafood'),\n",
       " (7, 'Produce'),\n",
       " (1, 'Beverages'),\n",
       " (1, 'Beverages'),\n",
       " (2, 'Condiments')]"
      ]
     },
     "execution_count": 88,
     "metadata": {},
     "output_type": "execute_result"
    }
   ],
   "source": [
    "%sql select Products.CategoryID,Categories.CategoryName from Products left join Categories on Products.CategoryID = Categories.CategoryID;"
   ]
  },
  {
   "cell_type": "markdown",
   "id": "05c0ac80-f004-470a-b71e-e41dcfb55da6",
   "metadata": {},
   "source": [
    "**beverages ürün kategorisindeki ürünlerin fiyat ortalaması nedir?**"
   ]
  },
  {
   "cell_type": "code",
   "execution_count": 95,
   "id": "5b0d7c69-2921-4951-9854-38e73d7754ab",
   "metadata": {},
   "outputs": [
    {
     "name": "stdout",
     "output_type": "stream",
     "text": [
      " * sqlite:///vbo.db\n",
      "Done.\n"
     ]
    },
    {
     "data": {
      "text/html": [
       "<table>\n",
       "    <thead>\n",
       "        <tr>\n",
       "            <th>(sum(Price)/count(Price ))</th>\n",
       "        </tr>\n",
       "    </thead>\n",
       "    <tbody>\n",
       "        <tr>\n",
       "            <td>42</td>\n",
       "        </tr>\n",
       "    </tbody>\n",
       "</table>"
      ],
      "text/plain": [
       "[(42,)]"
      ]
     },
     "execution_count": 95,
     "metadata": {},
     "output_type": "execute_result"
    }
   ],
   "source": [
    "%sql select (sum(Price)/count(Price )) from Products left join Categories on Products.CategoryID = Categories.CategoryID where CategoryName in('Beverages');"
   ]
  },
  {
   "cell_type": "code",
   "execution_count": 98,
   "id": "04b08779-9cc1-4f65-b754-90139b168c41",
   "metadata": {},
   "outputs": [
    {
     "name": "stdout",
     "output_type": "stream",
     "text": [
      " * sqlite:///vbo.db\n",
      "Done.\n"
     ]
    },
    {
     "data": {
      "text/html": [
       "<table>\n",
       "    <thead>\n",
       "        <tr>\n",
       "            <th>avg(Price)</th>\n",
       "        </tr>\n",
       "    </thead>\n",
       "    <tbody>\n",
       "        <tr>\n",
       "            <td>42.75</td>\n",
       "        </tr>\n",
       "    </tbody>\n",
       "</table>"
      ],
      "text/plain": [
       "[(42.75,)]"
      ]
     },
     "execution_count": 98,
     "metadata": {},
     "output_type": "execute_result"
    }
   ],
   "source": [
    "%sql select avg(Price) from Products left join Categories on Products.CategoryID = Categories.CategoryID where CategoryName in('Beverages');"
   ]
  },
  {
   "cell_type": "markdown",
   "id": "729a5d85-0b9a-4dcf-8c12-540ef6598b70",
   "metadata": {},
   "source": [
    "**USA'de yaşayan müşterilerin kazandırdığı toplam kazancı bulunuz.**"
   ]
  },
  {
   "cell_type": "code",
   "execution_count": 130,
   "id": "782e8089-277b-4174-a41d-0527712e99fd",
   "metadata": {},
   "outputs": [
    {
     "name": "stdout",
     "output_type": "stream",
     "text": [
      " * sqlite:///vbo.db\n",
      "Done.\n"
     ]
    },
    {
     "data": {
      "text/html": [
       "<table>\n",
       "    <thead>\n",
       "        <tr>\n",
       "            <th>sum(Price)</th>\n",
       "            <th>Country</th>\n",
       "        </tr>\n",
       "    </thead>\n",
       "    <tbody>\n",
       "        <tr>\n",
       "            <td>3762</td>\n",
       "            <td>USA</td>\n",
       "        </tr>\n",
       "    </tbody>\n",
       "</table>"
      ],
      "text/plain": [
       "[(3762, 'USA')]"
      ]
     },
     "execution_count": 130,
     "metadata": {},
     "output_type": "execute_result"
    }
   ],
   "source": [
    "%sql select sum(Price),Country from Orders o LEFT JOIN OrderDetails od on o.OrderID = od.OrderID LEFT JOIN Products p on od.ProductID = p.ProductID left join Customers cu on o.CustomerID = cu.CustomerID where cu.Country = 'USA';\n"
   ]
  },
  {
   "cell_type": "markdown",
   "id": "3b911696-52e8-4529-b2c6-4a9cc882dbcd",
   "metadata": {},
   "source": [
    "**Products tablosundaki CategoryID'lerin isimlerini bulunuz ve sonrasında kategori başına ortalama ürün fiyatını gösteriniz.**"
   ]
  },
  {
   "cell_type": "code",
   "execution_count": 109,
   "id": "a5af8df4-e290-48c2-8ad5-00089aa15563",
   "metadata": {},
   "outputs": [
    {
     "name": "stdout",
     "output_type": "stream",
     "text": [
      " * sqlite:///vbo.db\n",
      "Done.\n"
     ]
    },
    {
     "data": {
      "text/html": [
       "<table>\n",
       "    <thead>\n",
       "        <tr>\n",
       "            <th>avg(Price)</th>\n",
       "            <th>CategoryName</th>\n",
       "        </tr>\n",
       "    </thead>\n",
       "    <tbody>\n",
       "        <tr>\n",
       "            <td>42.75</td>\n",
       "            <td>Beverages</td>\n",
       "        </tr>\n",
       "        <tr>\n",
       "            <td>28.25</td>\n",
       "            <td>Condiments</td>\n",
       "        </tr>\n",
       "        <tr>\n",
       "            <td>33.76923076923077</td>\n",
       "            <td>Confections</td>\n",
       "        </tr>\n",
       "        <tr>\n",
       "            <td>74.9</td>\n",
       "            <td>Dairy Products</td>\n",
       "        </tr>\n",
       "        <tr>\n",
       "            <td>23.571428571428573</td>\n",
       "            <td>Grains/Cereals</td>\n",
       "        </tr>\n",
       "        <tr>\n",
       "            <td>55.166666666666664</td>\n",
       "            <td>Meat/Poultry</td>\n",
       "        </tr>\n",
       "        <tr>\n",
       "            <td>32.2</td>\n",
       "            <td>Produce</td>\n",
       "        </tr>\n",
       "        <tr>\n",
       "            <td>26.5</td>\n",
       "            <td>Seafood</td>\n",
       "        </tr>\n",
       "    </tbody>\n",
       "</table>"
      ],
      "text/plain": [
       "[(42.75, 'Beverages'),\n",
       " (28.25, 'Condiments'),\n",
       " (33.76923076923077, 'Confections'),\n",
       " (74.9, 'Dairy Products'),\n",
       " (23.571428571428573, 'Grains/Cereals'),\n",
       " (55.166666666666664, 'Meat/Poultry'),\n",
       " (32.2, 'Produce'),\n",
       " (26.5, 'Seafood')]"
      ]
     },
     "execution_count": 109,
     "metadata": {},
     "output_type": "execute_result"
    }
   ],
   "source": [
    "%sql select avg(Price), CategoryName from Products left join  Categories on Products.CategoryID = Categories.CategoryID group by CategoryName;"
   ]
  },
  {
   "cell_type": "markdown",
   "id": "e117baa6-0579-4277-8524-cf0475af3e69",
   "metadata": {},
   "source": [
    "**Çalışanları (EmployeeID) isimleri ile birlikte yaptıkları toplam satışlara göre sıralayınız.**"
   ]
  },
  {
   "cell_type": "code",
   "execution_count": 110,
   "id": "4cb9715d-29ff-40b2-a704-a5abdde69482",
   "metadata": {},
   "outputs": [
    {
     "name": "stdout",
     "output_type": "stream",
     "text": [
      " * sqlite:///vbo.db\n",
      "Done.\n"
     ]
    },
    {
     "data": {
      "text/html": [
       "<table>\n",
       "    <thead>\n",
       "        <tr>\n",
       "            <th>FirstName</th>\n",
       "            <th>toplam_satis</th>\n",
       "        </tr>\n",
       "    </thead>\n",
       "    <tbody>\n",
       "        <tr>\n",
       "            <td>Margaret</td>\n",
       "            <td>5515</td>\n",
       "        </tr>\n",
       "        <tr>\n",
       "            <td>Nancy</td>\n",
       "            <td>4353</td>\n",
       "        </tr>\n",
       "        <tr>\n",
       "            <td>Janet</td>\n",
       "            <td>3048</td>\n",
       "        </tr>\n",
       "        <tr>\n",
       "            <td>Michael</td>\n",
       "            <td>2981</td>\n",
       "        </tr>\n",
       "        <tr>\n",
       "            <td>Laura</td>\n",
       "            <td>2380</td>\n",
       "        </tr>\n",
       "        <tr>\n",
       "            <td>Robert</td>\n",
       "            <td>1852</td>\n",
       "        </tr>\n",
       "        <tr>\n",
       "            <td>Andrew</td>\n",
       "            <td>1550</td>\n",
       "        </tr>\n",
       "        <tr>\n",
       "            <td>Steven</td>\n",
       "            <td>1408</td>\n",
       "        </tr>\n",
       "        <tr>\n",
       "            <td>Anne</td>\n",
       "            <td>520</td>\n",
       "        </tr>\n",
       "    </tbody>\n",
       "</table>"
      ],
      "text/plain": [
       "[('Margaret', 5515),\n",
       " ('Nancy', 4353),\n",
       " ('Janet', 3048),\n",
       " ('Michael', 2981),\n",
       " ('Laura', 2380),\n",
       " ('Robert', 1852),\n",
       " ('Andrew', 1550),\n",
       " ('Steven', 1408),\n",
       " ('Anne', 520)]"
      ]
     },
     "execution_count": 110,
     "metadata": {},
     "output_type": "execute_result"
    }
   ],
   "source": [
    "%sql select em.FirstName, sum(Price) toplam_satis from Orders o left join OrderDetails od on o.OrderID = od.OrderID left join Products p on od.ProductID = p.ProductID left join Employees em on o.EmployeeID = em.EmployeeID group by o.EmployeeID order by toplam_satis DESC;"
   ]
  },
  {
   "cell_type": "markdown",
   "id": "0f8d7600-f53b-4815-bc90-a67401305d27",
   "metadata": {},
   "source": [
    "**Germany'dan verilen siparişlerin kategorilerine göre ortalama fiyatları nelerdir?**"
   ]
  },
  {
   "cell_type": "code",
   "execution_count": 129,
   "id": "f617ef5e-8fa6-478f-a4a7-3b2164b59c9f",
   "metadata": {},
   "outputs": [
    {
     "name": "stdout",
     "output_type": "stream",
     "text": [
      " * sqlite:///vbo.db\n",
      "Done.\n"
     ]
    },
    {
     "data": {
      "text/html": [
       "<table>\n",
       "    <thead>\n",
       "        <tr>\n",
       "            <th>CategoryName</th>\n",
       "            <th>AVG(Price)</th>\n",
       "        </tr>\n",
       "    </thead>\n",
       "    <tbody>\n",
       "        <tr>\n",
       "            <td>Beverages</td>\n",
       "            <td>20.5</td>\n",
       "        </tr>\n",
       "        <tr>\n",
       "            <td>Condiments</td>\n",
       "            <td>34.0</td>\n",
       "        </tr>\n",
       "        <tr>\n",
       "            <td>Confections</td>\n",
       "            <td>40.0</td>\n",
       "        </tr>\n",
       "        <tr>\n",
       "            <td>Dairy Products</td>\n",
       "            <td>151.64705882352942</td>\n",
       "        </tr>\n",
       "        <tr>\n",
       "            <td>Grains/Cereals</td>\n",
       "            <td>22.142857142857142</td>\n",
       "        </tr>\n",
       "        <tr>\n",
       "            <td>Meat/Poultry</td>\n",
       "            <td>30.2</td>\n",
       "        </tr>\n",
       "        <tr>\n",
       "            <td>Produce</td>\n",
       "            <td>30.75</td>\n",
       "        </tr>\n",
       "        <tr>\n",
       "            <td>Seafood</td>\n",
       "            <td>27.09090909090909</td>\n",
       "        </tr>\n",
       "    </tbody>\n",
       "</table>"
      ],
      "text/plain": [
       "[('Beverages', 20.5),\n",
       " ('Condiments', 34.0),\n",
       " ('Confections', 40.0),\n",
       " ('Dairy Products', 151.64705882352942),\n",
       " ('Grains/Cereals', 22.142857142857142),\n",
       " ('Meat/Poultry', 30.2),\n",
       " ('Produce', 30.75),\n",
       " ('Seafood', 27.09090909090909)]"
      ]
     },
     "execution_count": 129,
     "metadata": {},
     "output_type": "execute_result"
    }
   ],
   "source": [
    "%sql select ca.CategoryName, AVG(Price) from Orders o left join OrderDetails od on o.OrderID = od.OrderID left join Products p on od.ProductID = p.ProductID left join Categories ca on p.CategoryID = ca.CategoryID left join Customers cu on o.CustomerID = cu.CustomerID where cu.Country = 'Germany' GROUP BY CategoryName;"
   ]
  },
  {
   "cell_type": "markdown",
   "id": "2a87cb58-b7fa-42bb-9cec-1a11a673e43d",
   "metadata": {},
   "source": [
    "**Almanya ya da USA'den verilen siparişlerin kategorilerine göre ortalama fiyatları nelerdir?**"
   ]
  },
  {
   "cell_type": "code",
   "execution_count": 127,
   "id": "0f75ffaa-fa3e-4506-bce7-39cd125b8c11",
   "metadata": {},
   "outputs": [
    {
     "name": "stdout",
     "output_type": "stream",
     "text": [
      " * sqlite:///vbo.db\n",
      "Done.\n"
     ]
    },
    {
     "data": {
      "text/html": [
       "<table>\n",
       "    <thead>\n",
       "        <tr>\n",
       "            <th>CategoryName</th>\n",
       "            <th>AVG(p.Price)</th>\n",
       "        </tr>\n",
       "    </thead>\n",
       "    <tbody>\n",
       "        <tr>\n",
       "            <td>Beverages</td>\n",
       "            <td>20.5</td>\n",
       "        </tr>\n",
       "        <tr>\n",
       "            <td>Condiments</td>\n",
       "            <td>34.0</td>\n",
       "        </tr>\n",
       "        <tr>\n",
       "            <td>Confections</td>\n",
       "            <td>40.0</td>\n",
       "        </tr>\n",
       "        <tr>\n",
       "            <td>Dairy Products</td>\n",
       "            <td>151.64705882352942</td>\n",
       "        </tr>\n",
       "        <tr>\n",
       "            <td>Grains/Cereals</td>\n",
       "            <td>22.142857142857142</td>\n",
       "        </tr>\n",
       "        <tr>\n",
       "            <td>Meat/Poultry</td>\n",
       "            <td>30.2</td>\n",
       "        </tr>\n",
       "        <tr>\n",
       "            <td>Produce</td>\n",
       "            <td>30.75</td>\n",
       "        </tr>\n",
       "        <tr>\n",
       "            <td>Seafood</td>\n",
       "            <td>27.09090909090909</td>\n",
       "        </tr>\n",
       "    </tbody>\n",
       "</table>"
      ],
      "text/plain": [
       "[('Beverages', 20.5),\n",
       " ('Condiments', 34.0),\n",
       " ('Confections', 40.0),\n",
       " ('Dairy Products', 151.64705882352942),\n",
       " ('Grains/Cereals', 22.142857142857142),\n",
       " ('Meat/Poultry', 30.2),\n",
       " ('Produce', 30.75),\n",
       " ('Seafood', 27.09090909090909)]"
      ]
     },
     "execution_count": 127,
     "metadata": {},
     "output_type": "execute_result"
    }
   ],
   "source": [
    "%sql select ca.CategoryName, AVG(p.Price) from Orders o left join OrderDetails od on o.OrderID = od.OrderID left join Products p on od.ProductID = p.ProductID left join Categories ca on p.CategoryID = ca.CategoryID left join Customers cu on o.CustomerID = cu.CustomerID where cu.Country = 'Germany' GROUP BY CategoryName;\n",
    "\n"
   ]
  },
  {
   "cell_type": "markdown",
   "id": "dba1cc0b-e9e5-47e4-af00-4a232b5eca6f",
   "metadata": {},
   "source": [
    "**Haziran Temmuz Ağustos aylarında verilen siparişlerin ortalama fiyatı nedir?**"
   ]
  },
  {
   "cell_type": "code",
   "execution_count": 126,
   "id": "1633d31b-da47-457f-baee-0b7b8d564ee4",
   "metadata": {},
   "outputs": [
    {
     "name": "stdout",
     "output_type": "stream",
     "text": [
      " * sqlite:///vbo.db\n",
      "Done.\n"
     ]
    },
    {
     "data": {
      "text/html": [
       "<table>\n",
       "    <thead>\n",
       "        <tr>\n",
       "            <th>AVG(Products.Price)</th>\n",
       "        </tr>\n",
       "    </thead>\n",
       "    <tbody>\n",
       "        <tr>\n",
       "            <td>39.71891891891892</td>\n",
       "        </tr>\n",
       "    </tbody>\n",
       "</table>"
      ],
      "text/plain": [
       "[(39.71891891891892,)]"
      ]
     },
     "execution_count": 126,
     "metadata": {},
     "output_type": "execute_result"
    }
   ],
   "source": [
    "%sql SELECT AVG(Products.Price) FROM Products left join OrderDetails on OrderDetails.ProductID = products.ProductID left join Orders on OrderDetails.OrderID = Orders.OrderID WHERE OrderDate like '%07%' or OrderDate like '%08%' or OrderDate like '%09%';"
   ]
  },
  {
   "cell_type": "markdown",
   "id": "aed5c6a9-3ca8-449e-9bea-6ebc4ac61a5a",
   "metadata": {},
   "source": [
    "**Müşterilerin 1997 yılına ait siparişlerinin maksimum miktarlarını bulup müşterilerin isimleri ile birlikte büyükten küçüğe sıralayınız.**"
   ]
  },
  {
   "cell_type": "code",
   "execution_count": 124,
   "id": "8dd6dafb-ff02-4da6-8fff-8f793d4969a2",
   "metadata": {},
   "outputs": [
    {
     "name": "stdout",
     "output_type": "stream",
     "text": [
      " * sqlite:///vbo.db\n",
      "Done.\n"
     ]
    },
    {
     "data": {
      "text/html": [
       "<table>\n",
       "    <thead>\n",
       "        <tr>\n",
       "            <th>CustomerName</th>\n",
       "            <th>maks</th>\n",
       "        </tr>\n",
       "    </thead>\n",
       "    <tbody>\n",
       "        <tr>\n",
       "            <td>Gourmet Lanchonetes</td>\n",
       "            <td>435</td>\n",
       "        </tr>\n",
       "        <tr>\n",
       "            <td>Simons bistro</td>\n",
       "            <td>263</td>\n",
       "        </tr>\n",
       "        <tr>\n",
       "            <td>Mère Paillarde</td>\n",
       "            <td>263</td>\n",
       "        </tr>\n",
       "        <tr>\n",
       "            <td>Save-a-lot Markets</td>\n",
       "            <td>123</td>\n",
       "        </tr>\n",
       "        <tr>\n",
       "            <td>Eastern Connection</td>\n",
       "            <td>123</td>\n",
       "        </tr>\n",
       "        <tr>\n",
       "            <td>Wellington Importadora</td>\n",
       "            <td>97</td>\n",
       "        </tr>\n",
       "        <tr>\n",
       "            <td>Ernst Handel</td>\n",
       "            <td>55</td>\n",
       "        </tr>\n",
       "        <tr>\n",
       "            <td>Bottom-Dollar Marketse</td>\n",
       "            <td>55</td>\n",
       "        </tr>\n",
       "        <tr>\n",
       "            <td>La maison d&#x27;Asie</td>\n",
       "            <td>49</td>\n",
       "        </tr>\n",
       "        <tr>\n",
       "            <td>Folies gourmandes</td>\n",
       "            <td>49</td>\n",
       "        </tr>\n",
       "        <tr>\n",
       "            <td>Reggiani Caseifici</td>\n",
       "            <td>45</td>\n",
       "        </tr>\n",
       "        <tr>\n",
       "            <td>Queen Cozinha</td>\n",
       "            <td>45</td>\n",
       "        </tr>\n",
       "        <tr>\n",
       "            <td>Wartian Herkku</td>\n",
       "            <td>43</td>\n",
       "        </tr>\n",
       "        <tr>\n",
       "            <td>Toms Spezialitäten</td>\n",
       "            <td>43</td>\n",
       "        </tr>\n",
       "        <tr>\n",
       "            <td>Rattlesnake Canyon Grocery</td>\n",
       "            <td>43</td>\n",
       "        </tr>\n",
       "        <tr>\n",
       "            <td>Que Delícia</td>\n",
       "            <td>43</td>\n",
       "        </tr>\n",
       "        <tr>\n",
       "            <td>QUICK-Stop</td>\n",
       "            <td>43</td>\n",
       "        </tr>\n",
       "        <tr>\n",
       "            <td>Old World Delicatessen</td>\n",
       "            <td>43</td>\n",
       "        </tr>\n",
       "        <tr>\n",
       "            <td>Hungry Owl All-Night Grocers</td>\n",
       "            <td>43</td>\n",
       "        </tr>\n",
       "        <tr>\n",
       "            <td>Hungry Coyote Import Store</td>\n",
       "            <td>43</td>\n",
       "        </tr>\n",
       "        <tr>\n",
       "            <td>Familia Arquibaldo</td>\n",
       "            <td>43</td>\n",
       "        </tr>\n",
       "        <tr>\n",
       "            <td>Princesa Isabel Vinhoss</td>\n",
       "            <td>38</td>\n",
       "        </tr>\n",
       "        <tr>\n",
       "            <td>Galería del gastrónomo</td>\n",
       "            <td>38</td>\n",
       "        </tr>\n",
       "        <tr>\n",
       "            <td>Blondel père et fils</td>\n",
       "            <td>38</td>\n",
       "        </tr>\n",
       "        <tr>\n",
       "            <td>Richter Supermarkt</td>\n",
       "            <td>36</td>\n",
       "        </tr>\n",
       "        <tr>\n",
       "            <td>Ottilies Käseladen</td>\n",
       "            <td>36</td>\n",
       "        </tr>\n",
       "        <tr>\n",
       "            <td>Consolidated Holdings</td>\n",
       "            <td>34</td>\n",
       "        </tr>\n",
       "        <tr>\n",
       "            <td>Split Rail Beer &amp; Ale</td>\n",
       "            <td>31</td>\n",
       "        </tr>\n",
       "        <tr>\n",
       "            <td>Magazzini Alimentari Riuniti</td>\n",
       "            <td>31</td>\n",
       "        </tr>\n",
       "        <tr>\n",
       "            <td>Franchi S.p.A.</td>\n",
       "            <td>31</td>\n",
       "        </tr>\n",
       "        <tr>\n",
       "            <td>Piccolo und mehr</td>\n",
       "            <td>23</td>\n",
       "        </tr>\n",
       "        <tr>\n",
       "            <td>Océano Atlántico Ltda.</td>\n",
       "            <td>23</td>\n",
       "        </tr>\n",
       "        <tr>\n",
       "            <td>Folk och fä HB</td>\n",
       "            <td>21</td>\n",
       "        </tr>\n",
       "        <tr>\n",
       "            <td>LINO-Delicateses</td>\n",
       "            <td>10</td>\n",
       "        </tr>\n",
       "    </tbody>\n",
       "</table>"
      ],
      "text/plain": [
       "[('Gourmet Lanchonetes', 435),\n",
       " ('Simons bistro', 263),\n",
       " ('Mère Paillarde', 263),\n",
       " ('Save-a-lot Markets', 123),\n",
       " ('Eastern Connection', 123),\n",
       " ('Wellington Importadora', 97),\n",
       " ('Ernst Handel', 55),\n",
       " ('Bottom-Dollar Marketse', 55),\n",
       " (\"La maison d'Asie\", 49),\n",
       " ('Folies gourmandes', 49),\n",
       " ('Reggiani Caseifici', 45),\n",
       " ('Queen Cozinha', 45),\n",
       " ('Wartian Herkku', 43),\n",
       " ('Toms Spezialitäten', 43),\n",
       " ('Rattlesnake Canyon Grocery', 43),\n",
       " ('Que Delícia', 43),\n",
       " ('QUICK-Stop', 43),\n",
       " ('Old World Delicatessen', 43),\n",
       " ('Hungry Owl All-Night Grocers', 43),\n",
       " ('Hungry Coyote Import Store', 43),\n",
       " ('Familia Arquibaldo', 43),\n",
       " ('Princesa Isabel Vinhoss', 38),\n",
       " ('Galería del gastrónomo', 38),\n",
       " ('Blondel père et fils', 38),\n",
       " ('Richter Supermarkt', 36),\n",
       " ('Ottilies Käseladen', 36),\n",
       " ('Consolidated Holdings', 34),\n",
       " ('Split Rail Beer & Ale', 31),\n",
       " ('Magazzini Alimentari Riuniti', 31),\n",
       " ('Franchi S.p.A.', 31),\n",
       " ('Piccolo und mehr', 23),\n",
       " ('Océano Atlántico Ltda.', 23),\n",
       " ('Folk och fä HB', 21),\n",
       " ('LINO-Delicateses', 10)]"
      ]
     },
     "execution_count": 124,
     "metadata": {},
     "output_type": "execute_result"
    }
   ],
   "source": [
    "%sql select CustomerName, MAX(Price) maks from Products left join OrderDetails on Products.ProductID = OrderDetails.ProductID left join Orders on OrderDetails.OrderID = Orders.OrderID left join Customers on Customers.CustomerID = Orders.CustomerID where OrderDate like '%1997%' GROUP BY CustomerName ORDER BY maks DESC;"
   ]
  }
 ],
 "metadata": {
  "kernelspec": {
   "display_name": "Python 3 (ipykernel)",
   "language": "python",
   "name": "python3"
  },
  "language_info": {
   "codemirror_mode": {
    "name": "ipython",
    "version": 3
   },
   "file_extension": ".py",
   "mimetype": "text/x-python",
   "name": "python",
   "nbconvert_exporter": "python",
   "pygments_lexer": "ipython3",
   "version": "3.11.7"
  }
 },
 "nbformat": 4,
 "nbformat_minor": 5
}
